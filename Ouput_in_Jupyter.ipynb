{
 "cells": [
  {
   "cell_type": "code",
   "execution_count": 4,
   "metadata": {},
   "outputs": [
    {
     "name": "stdout",
     "output_type": "stream",
     "text": [
      "/critic/abbie-bernstein/, Interstellar is impressive. It is superbly made, and combines compelling thought about everything from ecology to the nature of time to a child's belief in ghosts into something cohesive and mostly engrossing.,\n",
      "\n",
      "/critic/pj-nabarro/, The summary work of Nolan: apotheosis of his signature where he attempts to merge the philosophical and emotional in entertaining genre packages.,\n",
      "\n",
      "/critic/debbie-baldwin/, It's the rare combination of a film that's both enjoyable in the theater and afterward, hashing through it over a drink,\n",
      "\n",
      "/critic/jennifer-heaton/, Interstellar magnifies Nolan's style to a tremendous degree, but that also means enlarging his own flaws too.,\n",
      "\n",
      "/critic/aaron-peterson/, For this critic, Nolan hits shy of the mark for cinematic brilliance but still manages to land a visually stunning entertainment in its own right. ,\n",
      "\n",
      "/critic/pat-padua-17819/, Succeeds on a level that has been largely foreign to the celluloid-loving director: the emotional.,\n",
      "\n",
      "/critic/anne-brodie/, The planets in the new galaxies are creatively different yet familiar, beautiful and ugly, habitable but not habitable. They have their own histories and realities and have no interest in being colonised by the US of A.,\n",
      "\n",
      "/critic/marcianne-miller/, The enchantment of a Christopher Nolan film, the sheer majesty of it, if you will, is surrendering to it.,\n",
      "\n",
      "/critic/chloe-leeson/, Interstellar is an ambitious story, and while the theme of love transcends time and space is a bit shoehorned into the script, it still rings true. Matthew McConaughey delivers one of the finest pieces of acting on film.,\n",
      "\n",
      "/critic/ruben-rosario/, I think the reason why I connected so deeply with it is the extent to which Nolan evokes iconic moments from silent films.,\n",
      "\n",
      "/critic/rosalynn-try-hane/, What is wrong with the movie - some of the messages are lathered on so thickly... yet the Nolan brothers assume that all viewers have a keen grasp of quantum physics, relativity, time dimensions and gravity.,\n",
      "\n",
      "/critic/annalee-newitz/, The result is a mess. But it's a beautiful mess, and one that I wouldn't want you to miss for the world.,\n",
      "\n",
      "/critic/mark-keizer/, Watching Christopher Nolan fall short is still more exciting than watching most other directors succeed.,\n",
      "\n",
      "/critic/megan-basham/, Nolan's refreshing love affair with self-determination goes too far. ,\n",
      "\n",
      "/critic/sebastian-zavala-kahn/, ...visually spectacular, complex, and both intellectually and emotionally stimulating...[Full review in Spanish],\n",
      "\n",
      "/critic/pablo-a-scholz/, Visually striking, with an impressive cast... [Full review in Spanish],\n",
      "\n",
      "/critic/uri-klein/, Christopher Nolan's spectacular film is filled with frustration, anger, and guilt, and also strives for acceptance and even redemption.,\n",
      "\n",
      "/critic/robert-kojder/, Eye-popping visuals, an ambitious narrative, and a heart-racing soundtrack; one of Nolan's best,\n",
      "\n",
      "/critic/josh-terry/, Interstellar is why we go to the movies.,\n",
      "\n",
      "/critic/nancy-gail-reagan/, This intergalactic extravaganza is clearly in a class by itself.,\n",
      "\n"
     ]
    }
   ],
   "source": [
    "from bs4 import BeautifulSoup as soup\n",
    "from urllib.request import urlopen as ureq\n",
    "\n",
    "myurl=\"https://www.rottentomatoes.com/m/interstellar_2014/reviews/\"\n",
    "uclient = ureq(myurl)\n",
    "pagehtml=uclient.read()\n",
    "uclient.close()\n",
    "pagesoup=soup(pagehtml,\"html.parser\")\n",
    "page=pagesoup.findAll(\"div\",{\"class\":\"row review_table_row\"})\n",
    "#c1=page.findAll(\"a\",{\"class\":\"unstyled bold articleLink\"})\n",
    "filename=\"CriticsReview.csv\"\n",
    "f=open(filename,\"a\")\n",
    "headers=\"Critics Name,Critics Review,Critics Review Sentiment Analysis\\n\"\n",
    "#f.write(headers)\n",
    "for col in page:\n",
    "    col1=col.div.a[\"href\"]\n",
    "\n",
    "    views = col.findAll('div',{\"class\": \"the_review\"})\n",
    "    review = views[0].text\n",
    "    print(col1.replace(\",\", \"|\") + \",\" + review + \",\"+\"\\n\")\n",
    "    f.write(col1.replace(\",\", \"|\") + \",\" + review +\",\"+\"\\n\")\n",
    "f.close()"
   ]
  },
  {
   "cell_type": "code",
   "execution_count": null,
   "metadata": {},
   "outputs": [],
   "source": []
  }
 ],
 "metadata": {
  "kernelspec": {
   "display_name": "Python 3",
   "language": "python",
   "name": "python3"
  },
  "language_info": {
   "codemirror_mode": {
    "name": "ipython",
    "version": 3
   },
   "file_extension": ".py",
   "mimetype": "text/x-python",
   "name": "python",
   "nbconvert_exporter": "python",
   "pygments_lexer": "ipython3",
   "version": "3.7.1"
  }
 },
 "nbformat": 4,
 "nbformat_minor": 1
}
